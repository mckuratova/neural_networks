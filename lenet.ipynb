{
  "nbformat": 4,
  "nbformat_minor": 0,
  "metadata": {
    "colab": {
      "provenance": [],
      "toc_visible": true
    },
    "kernelspec": {
      "name": "python3",
      "display_name": "Python 3"
    },
    "language_info": {
      "name": "python"
    }
  },
  "cells": [
    {
      "cell_type": "markdown",
      "source": [
        "# Построение сети LeNet"
      ],
      "metadata": {
        "id": "1JwM-flToNJi"
      }
    },
    {
      "cell_type": "markdown",
      "source": [
        "## Описание"
      ],
      "metadata": {
        "id": "jjruSp2SoanU"
      }
    },
    {
      "cell_type": "markdown",
      "source": [
        "Пострить и обучить сверточную нейронную сеть на наборе данных с одеждой.\n",
        "Задача: accuracy на тестовой выборке должно быть не меньше 87%.\n",
        "\n",
        "Задача решается с использованием GPU-тренажера Yandex.Practicum."
      ],
      "metadata": {
        "id": "t4oy-zcsofCf"
      }
    },
    {
      "cell_type": "markdown",
      "source": [
        "## Импорт необходимых библиотек"
      ],
      "metadata": {
        "id": "Q_g0iMavoqby"
      }
    },
    {
      "cell_type": "code",
      "execution_count": null,
      "metadata": {
        "id": "dmBE9WG8oMAV"
      },
      "outputs": [],
      "source": [
        "from tensorflow.keras.datasets import fashion_mnist\n",
        "from tensorflow.keras import Sequential\n",
        "from tensorflow.keras.layers import Conv2D, Flatten, Dense, AvgPool2D\n",
        "from tensorflow.keras.optimizers import Adam\n",
        "import numpy as np"
      ]
    },
    {
      "cell_type": "markdown",
      "source": [
        "## Функция загрузки обучающих данных"
      ],
      "metadata": {
        "id": "ZuDLlwLpoodR"
      }
    },
    {
      "cell_type": "markdown",
      "source": [
        "Приведем яркость изображений из обучающей выборки к диапазону [0, 1], поскольку в этом диапазоне всегда находится яркость изображений из тестовой выборки."
      ],
      "metadata": {
        "id": "iQM1RpHQo-eM"
      }
    },
    {
      "cell_type": "code",
      "source": [
        "def load_train(path):\n",
        "    features_train = np.load(path + 'train_features.npy')\n",
        "    target_train = np.load(path + 'train_target.npy')\n",
        "    features_train = features_train.reshape(-1, 28, 28, 1) / 255.0\n",
        "    return features_train, target_train"
      ],
      "metadata": {
        "id": "wdDCIjMSo14k"
      },
      "execution_count": null,
      "outputs": []
    },
    {
      "cell_type": "markdown",
      "source": [
        "## Функция создания модели"
      ],
      "metadata": {
        "id": "VoMf4N-wo51O"
      }
    },
    {
      "cell_type": "markdown",
      "source": [
        "Строение сети LeNet:\n",
        "1. 2 сверточных слоя размером 5х5, чередующихся с Average Pooling размером 2х2. (Постепенно они уменьшают пространственное разрешение и собирают разбросанную по всему изображению информацию в матрицы маленького размера)\n",
        "2. Слой Flattern, чтобы сделать многомерный тензор одномерным.\n",
        "3. 3 полносвязных слоя, которые собирают все признаки и классифицируют их.\n",
        "\n",
        "Для оптимизации будем использовать алгоритм Adam с показателем learning rate = 0.01. В качестве активации везде будем использовать ReLU, кроме как для последнего слоя (SoftMax). В качестве функции потерь используется *sparse_categorical_crossentropy*."
      ],
      "metadata": {
        "id": "x392tU7-pUyZ"
      }
    },
    {
      "cell_type": "code",
      "source": [
        "def create_model(input_shape):\n",
        "    model = Sequential()\n",
        "    optimizer = Adam(lr=0.01) \n",
        "    model.add(Conv2D(filters=6, kernel_size=(5, 5), input_shape=(28, 28, 1), padding='same', activation='relu'))\n",
        "    model.add(AvgPool2D(pool_size=(2, 2), strides=None, padding='valid'))\n",
        "    model.add(Conv2D(filters=16, kernel_size=(5, 5), activation='relu'))\n",
        "    model.add(AvgPool2D(pool_size=(2, 2), strides=None, padding='valid'))\n",
        "    model.add(Flatten())\n",
        "    model.add(Dense(units=120, activation='relu'))\n",
        "    model.add(Dense(units=84, activation='relu'))\n",
        "    model.add(Dense(units=10, activation='softmax'))\n",
        "    model.compile(loss='sparse_categorical_crossentropy', optimizer=optimizer, metrics=['acc'])\n",
        "    \n",
        "    return model"
      ],
      "metadata": {
        "id": "icrmBvyppXt5"
      },
      "execution_count": null,
      "outputs": []
    },
    {
      "cell_type": "markdown",
      "source": [
        "## Обучение модели"
      ],
      "metadata": {
        "id": "5Q8VnS0RqUfe"
      }
    },
    {
      "cell_type": "code",
      "source": [
        "def train_model(model, train_data, test_data, batch_size=32, epochs=5,\n",
        "               steps_per_epoch=None, validation_steps=None):\n",
        "\n",
        "    features_train, target_train = train_data\n",
        "    features_test, target_test = test_data\n",
        "    model.fit(features_train, target_train, \n",
        "              validation_data=(features_test, target_test),\n",
        "              batch_size=batch_size, epochs=epochs,\n",
        "              steps_per_epoch=steps_per_epoch,\n",
        "              validation_steps=validation_steps,\n",
        "              verbose=2, shuffle=True)\n",
        "    return model "
      ],
      "metadata": {
        "id": "ifSCGlFbqYOV"
      },
      "execution_count": null,
      "outputs": []
    },
    {
      "cell_type": "markdown",
      "source": [
        "## Результат обучения модели"
      ],
      "metadata": {
        "id": "ZSs1EcMZsv8i"
      }
    },
    {
      "cell_type": "markdown",
      "source": [
        "![lenet.jpg](data:image/jpeg;base64,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)"
      ],
      "metadata": {
        "id": "71FAB1Mrt4hM"
      }
    },
    {
      "cell_type": "markdown",
      "source": [
        "## Анализ результатов"
      ],
      "metadata": {
        "id": "lIfndmbBuLO6"
      }
    },
    {
      "cell_type": "markdown",
      "source": [
        "Построенная модель позволяет классифицировать одежду с точностью 87%, что соответсвует условию задачи."
      ],
      "metadata": {
        "id": "n-dA1K1huN9e"
      }
    }
  ]
}